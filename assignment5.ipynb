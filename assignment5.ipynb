{
 "cells": [
  {
   "cell_type": "markdown",
   "id": "335842ee-1def-42ce-81b6-b9abaf86b2b6",
   "metadata": {},
   "source": [
    "# CSCI 4435/5435: Text Mining & Natural Language Processing\n",
    "## Assignment 5: Using LLMs for Summarization (using tl;dr)\n",
    "### Student: Miguel Guirao\n",
    "### Aggie ID: 800699208"
   ]
  },
  {
   "cell_type": "markdown",
   "id": "bb58e69f-0b55-4e24-b101-b327a14aaee0",
   "metadata": {},
   "source": [
    "## Summary\n",
    "0. Reference: [Amazon Review Summarization Using GPT-2 And PyTorch](https://www.nbshare.io/notebook/764386829/Amazon-Review-Summarization-Using-GPT-2-And-PyTorch/)\n",
    "1. The news_summary dataset has two features and 98,401 examples. We will be using the \"text\" feature for training an LLM and \"headlines\" as True label."
   ]
  },
  {
   "cell_type": "code",
   "execution_count": 23,
   "id": "1accaf85-d480-43c8-9cc8-1c6a1ea6c4ff",
   "metadata": {},
   "outputs": [],
   "source": [
    "# import the required libraries\n",
    "import pandas as pd\n",
    "import re\n",
    "import random\n",
    "import time\n",
    "import numpy as np\n",
    "import matplotlib.pyplot as plt\n",
    "import torch\n",
    "from torch.utils.data import Dataset, DataLoader\n",
    "from transformers import AutoTokenizer, AutoModelWithLMHead, AutoModelForCausalLM, AutoModelForMaskedLM, AutoModelForSeq2SeqLM, GPT2LMHeadModel\n",
    "import torch.optim as optim\n",
    "import transformers"
   ]
  },
  {
   "cell_type": "code",
   "execution_count": null,
   "id": "f8ecefe3-ef59-485a-82ec-f69d8d739743",
   "metadata": {},
   "outputs": [],
   "source": [
    "# Check the versions I am using\n",
    "print(f\"Pandas: {pd.__version__}\")\n",
    "print(f\"Numpy: {np.__version__}\")\n",
    "print(f\"Matplotlib: {plt.__version__}\")\n",
    "print(f\"Transformers: {transformers.__version__}\")\n",
    "#print(f\": {}\")"
   ]
  },
  {
   "cell_type": "code",
   "execution_count": 2,
   "id": "2e2e3ff5-42b2-4e0f-b6ab-92231a801194",
   "metadata": {},
   "outputs": [
    {
     "name": "stdout",
     "output_type": "stream",
     "text": [
      "Using compute device: cuda:0\n"
     ]
    }
   ],
   "source": [
    "device = torch.device('cuda:0' if torch.cuda.is_available() else 'cpu')\n",
    "print(f\"Using compute device: {device}\")"
   ]
  },
  {
   "cell_type": "markdown",
   "id": "2db47601-5a1d-42dc-a700-bc301cdd6fbb",
   "metadata": {},
   "source": [
    "## 1. Load dataset"
   ]
  },
  {
   "cell_type": "code",
   "execution_count": 3,
   "id": "a58a94e5-005f-416a-8e4b-bd83f7e7b468",
   "metadata": {},
   "outputs": [
    {
     "data": {
      "text/html": [
       "<div>\n",
       "<style scoped>\n",
       "    .dataframe tbody tr th:only-of-type {\n",
       "        vertical-align: middle;\n",
       "    }\n",
       "\n",
       "    .dataframe tbody tr th {\n",
       "        vertical-align: top;\n",
       "    }\n",
       "\n",
       "    .dataframe thead th {\n",
       "        text-align: right;\n",
       "    }\n",
       "</style>\n",
       "<table border=\"1\" class=\"dataframe\">\n",
       "  <thead>\n",
       "    <tr style=\"text-align: right;\">\n",
       "      <th></th>\n",
       "      <th>headlines</th>\n",
       "      <th>text</th>\n",
       "    </tr>\n",
       "  </thead>\n",
       "  <tbody>\n",
       "    <tr>\n",
       "      <th>0</th>\n",
       "      <td>upGrad learner switches to career in ML &amp; Al w...</td>\n",
       "      <td>Saurav Kant, an alumnus of upGrad and IIIT-B's...</td>\n",
       "    </tr>\n",
       "    <tr>\n",
       "      <th>1</th>\n",
       "      <td>Delhi techie wins free food from Swiggy for on...</td>\n",
       "      <td>Kunal Shah's credit card bill payment platform...</td>\n",
       "    </tr>\n",
       "    <tr>\n",
       "      <th>2</th>\n",
       "      <td>New Zealand end Rohit Sharma-led India's 12-ma...</td>\n",
       "      <td>New Zealand defeated India by 8 wickets in the...</td>\n",
       "    </tr>\n",
       "    <tr>\n",
       "      <th>3</th>\n",
       "      <td>Aegon life iTerm insurance plan helps customer...</td>\n",
       "      <td>With Aegon Life iTerm Insurance plan, customer...</td>\n",
       "    </tr>\n",
       "    <tr>\n",
       "      <th>4</th>\n",
       "      <td>Have known Hirani for yrs, what if MeToo claim...</td>\n",
       "      <td>Speaking about the sexual harassment allegatio...</td>\n",
       "    </tr>\n",
       "  </tbody>\n",
       "</table>\n",
       "</div>"
      ],
      "text/plain": [
       "                                           headlines  \\\n",
       "0  upGrad learner switches to career in ML & Al w...   \n",
       "1  Delhi techie wins free food from Swiggy for on...   \n",
       "2  New Zealand end Rohit Sharma-led India's 12-ma...   \n",
       "3  Aegon life iTerm insurance plan helps customer...   \n",
       "4  Have known Hirani for yrs, what if MeToo claim...   \n",
       "\n",
       "                                                text  \n",
       "0  Saurav Kant, an alumnus of upGrad and IIIT-B's...  \n",
       "1  Kunal Shah's credit card bill payment platform...  \n",
       "2  New Zealand defeated India by 8 wickets in the...  \n",
       "3  With Aegon Life iTerm Insurance plan, customer...  \n",
       "4  Speaking about the sexual harassment allegatio...  "
      ]
     },
     "execution_count": 3,
     "metadata": {},
     "output_type": "execute_result"
    }
   ],
   "source": [
    "news_df = pd.read_csv('news_summary.csv')\n",
    "news_df.head()"
   ]
  },
  {
   "cell_type": "markdown",
   "id": "36420111-18bb-4d45-ba63-3e3d0ebcb10a",
   "metadata": {},
   "source": [
    "## 2. Data Preprocessing"
   ]
  },
  {
   "cell_type": "code",
   "execution_count": 4,
   "id": "bc3ec946-dbb4-4bb0-8a9f-3e8a0a352c61",
   "metadata": {},
   "outputs": [
    {
     "data": {
      "text/plain": [
       "0    Saurav Kant, an alumnus of upGrad and IIIT-B's...\n",
       "1    Kunal Shah's credit card bill payment platform...\n",
       "2    New Zealand defeated India by 8 wickets in the...\n",
       "3    With Aegon Life iTerm Insurance plan, customer...\n",
       "4    Speaking about the sexual harassment allegatio...\n",
       "dtype: object"
      ]
     },
     "execution_count": 4,
     "metadata": {},
     "output_type": "execute_result"
    }
   ],
   "source": [
    "newssummary_df = news_df['text'] + \" TL;DR \" + news_df['headlines']\n",
    "newssummary_df.head()"
   ]
  },
  {
   "cell_type": "code",
   "execution_count": 5,
   "id": "3759b495-cd96-454e-8ab9-4d72936f7fcc",
   "metadata": {},
   "outputs": [
    {
     "name": "stdout",
     "output_type": "stream",
     "text": [
      "Saurav Kant, an alumnus of upGrad and IIIT-B's PG Program in Machine learning and Artificial Intelligence, was a Sr Systems Engineer at Infosys with almost 5 years of work experience. The program and upGrad's 360-degree career support helped him transition to a Data Scientist at Tech Mahindra with 90% salary hike. upGrad's Online Power Learning has powered 3 lakh+ careers. TL;DR upGrad learner switches to career in ML & Al with 90% salary hike\n"
     ]
    }
   ],
   "source": [
    "print(newssummary_df[0])"
   ]
  },
  {
   "cell_type": "code",
   "execution_count": 6,
   "id": "d839d570-a184-4e1e-ba89-550ea2ea44f6",
   "metadata": {},
   "outputs": [
    {
     "name": "stdout",
     "output_type": "stream",
     "text": [
      "Pakistani singer Rahat Fateh Ali Khan has denied receiving any notice from the Enforcement Directorate over allegedly smuggling foreign currency out of India. \"It would have been better if the authorities would have served the notice first if any and then publicised this,\" reads a press release issued on behalf of Rahat. The statement further called the allegation \"bizarre\". TL;DR Rahat Fateh Ali Khan denies getting notice for smuggling currency\n"
     ]
    }
   ],
   "source": [
    "print(newssummary_df[5])"
   ]
  },
  {
   "cell_type": "markdown",
   "id": "f5d11f84-91eb-41a8-be48-fe6af5c23226",
   "metadata": {},
   "source": [
    "### In order to select a proper fixed length input, I get the lenghts of all reviews and create a boxplot. With the boxplot created I can easily see that the median input length is around 70 words, with a maximun of 80 words.\n",
    "### I select 80 as the fixed length input."
   ]
  },
  {
   "cell_type": "code",
   "execution_count": 16,
   "id": "d73421dd-b8a7-4bca-bd62-f3750afd43f2",
   "metadata": {},
   "outputs": [
    {
     "name": "stdout",
     "output_type": "stream",
     "text": [
      "3 79\n"
     ]
    }
   ],
   "source": [
    "newssummary_df_length = [len(review.split()) for review in newssummary_df] #/len(reviews)\n",
    "print(min(newssummary_df_length), max(newssummary_df_length))"
   ]
  },
  {
   "cell_type": "code",
   "execution_count": 15,
   "id": "a77bdbbd-fdfd-4a3b-baa8-23220a32c16b",
   "metadata": {},
   "outputs": [
    {
     "data": {
      "image/png": "[encoded data removed]",
      "text/plain": [
       "<Figure size 640x480 with 1 Axes>"
      ]
     },
     "metadata": {},
     "output_type": "display_data"
    }
   ],
   "source": [
    "plt.boxplot(newssummary_df_length)\n",
    "plt.show()"
   ]
  },
  {
   "cell_type": "code",
   "execution_count": 17,
   "id": "101131d9-144e-4f32-b10a-b2ab6631a288",
   "metadata": {},
   "outputs": [],
   "source": [
    "max_length = 80"
   ]
  },
  {
   "cell_type": "markdown",
   "id": "0a35065c-f637-4cc7-a299-c79c580b1bff",
   "metadata": {},
   "source": [
    "## Setup and Training"
   ]
  },
  {
   "cell_type": "code",
   "execution_count": null,
   "id": "b7a9c906-5a0e-412b-85c7-701e6209f87a",
   "metadata": {},
   "outputs": [],
   "source": [
    "# AutoModelForCausalLM: https://huggingface.co/docs/trl/main/en/models#trl.AutoModelForCausalLMWithValueHead\n",
    "# AutoModelForMaskedLM: \n",
    "# https://huggingface.co/docs/transformers/main/en/model_doc/gpt2#transformers.GPT2LMHeadModel"
   ]
  },
  {
   "cell_type": "code",
   "execution_count": 21,
   "id": "da97212d-2b79-44c8-bc9e-30d2577328c2",
   "metadata": {},
   "outputs": [],
   "source": [
    "tokenizer = AutoTokenizer.from_pretrained(\"gpt2\")\n",
    "#model = AutoModelWithLMHead.from_pretrained(\"gpt2\") # Deprecated. Options: AutoModelForCausalLM, AutoModelForMaskedLM, AutoModelForSeq2SeqLM\n",
    "model = AutoModelForCausalLM.from_pretrained(\"gpt2\")\n",
    "model = model.to(device)"
   ]
  },
  {
   "cell_type": "code",
   "execution_count": 24,
   "id": "d962c8cc-017f-44e2-beac-78bf4c6f08dd",
   "metadata": {},
   "outputs": [
    {
     "data": {
      "application/vnd.jupyter.widget-view+json": {
       "model_id": "459223749e434a73a17635f8bdb8c738",
       "version_major": 2,
       "version_minor": 0
      },
      "text/plain": [
       "model.safetensors:   0%|          | 0.00/548M [00:00<?, ?B/s]"
      ]
     },
     "metadata": {},
     "output_type": "display_data"
    },
    {
     "data": {
      "application/vnd.jupyter.widget-view+json": {
       "model_id": "30d4f17d73a548f49062d33272e38388",
       "version_major": 2,
       "version_minor": 0
      },
      "text/plain": [
       "generation_config.json:   0%|          | 0.00/124 [00:00<?, ?B/s]"
      ]
     },
     "metadata": {},
     "output_type": "display_data"
    }
   ],
   "source": [
    "tokenizer = AutoTokenizer.from_pretrained(\"openai-community/gpt2\")\n",
    "model = GPT2LMHeadModel.from_pretrained(\"openai-community/gpt2\")\n",
    "model = model.to(device)"
   ]
  },
  {
   "cell_type": "code",
   "execution_count": 25,
   "id": "605da5c9-0cee-4fd7-bd30-31df538217b9",
   "metadata": {},
   "outputs": [],
   "source": [
    "optimizer = optim.AdamW(model.parameters(), lr=3e-4)"
   ]
  },
  {
   "cell_type": "code",
   "execution_count": 26,
   "id": "2d8df641-5c00-4cd2-b9bc-c6fd1160501f",
   "metadata": {},
   "outputs": [
    {
     "data": {
      "text/plain": [
       "[24811, 26, 7707, 220]"
      ]
     },
     "execution_count": 26,
     "metadata": {},
     "output_type": "execute_result"
    }
   ],
   "source": [
    "tokenizer.encode(\" TL;DR \")"
   ]
  },
  {
   "cell_type": "code",
   "execution_count": 27,
   "id": "c9df810e-3d04-47ad-83c9-e9a7811577d9",
   "metadata": {},
   "outputs": [],
   "source": [
    "extra_length = len(tokenizer.encode(\" TL;DR \")) "
   ]
  },
  {
   "cell_type": "code",
   "execution_count": 28,
   "id": "b46738b7-986f-4a9a-9ba6-fa9c8d8ccbd9",
   "metadata": {},
   "outputs": [],
   "source": [
    "class ReviewDataset(Dataset):  \n",
    "    def __init__(self, tokenizer, reviews, max_len):\n",
    "        self.max_len = max_len\n",
    "        self.tokenizer = tokenizer\n",
    "        self.eos = self.tokenizer.eos_token\n",
    "        self.eos_id = self.tokenizer.eos_token_id\n",
    "        self.reviews = reviews\n",
    "        self.result = []\n",
    "\n",
    "        for review in self.reviews:\n",
    "            # Encode the text using tokenizer.encode(). We add EOS at the end\n",
    "            tokenized = self.tokenizer.encode(review + self.eos)\n",
    "            \n",
    "            # Padding/truncating the encoded sequence to max_len \n",
    "            padded = self.pad_truncate(tokenized)            \n",
    "\n",
    "            # Creating a tensor and adding to the result\n",
    "            self.result.append(torch.tensor(padded))\n",
    "\n",
    "    def __len__(self):\n",
    "        return len(self.result)\n",
    "\n",
    "\n",
    "    def __getitem__(self, item):\n",
    "        return self.result[item]\n",
    "\n",
    "    def pad_truncate(self, name):\n",
    "        name_length = len(name) - extra_length\n",
    "        if name_length < self.max_len:\n",
    "            difference = self.max_len - name_length\n",
    "            result = name + [self.eos_id] * difference\n",
    "        elif name_length > self.max_len:\n",
    "            result = name[:self.max_len + 3]+[self.eos_id] \n",
    "        else:\n",
    "            result = name\n",
    "        return result"
   ]
  },
  {
   "cell_type": "code",
   "execution_count": 29,
   "id": "7c19faf8-6302-42e8-992b-fa4a6b45ff06",
   "metadata": {},
   "outputs": [],
   "source": [
    "dataset = ReviewDataset(tokenizer, newssummary_df, max_length)"
   ]
  },
  {
   "cell_type": "markdown",
   "id": "3261d4c3-7ad6-448b-bc4b-241e56c7fce0",
   "metadata": {},
   "source": [
    "## (80 pts) Train a GPT model to perform summarization using tl;dr token."
   ]
  },
  {
   "cell_type": "code",
   "execution_count": 30,
   "id": "61f306fe-1eba-4fc5-aea9-19d24df14a48",
   "metadata": {},
   "outputs": [],
   "source": [
    "dataloader = DataLoader(dataset, batch_size=32, shuffle=True, drop_last=True)"
   ]
  },
  {
   "cell_type": "code",
   "execution_count": 31,
   "id": "9604cd35-4ce0-429a-bcaf-41c69da2484b",
   "metadata": {},
   "outputs": [],
   "source": [
    "def train(model, optimizer, dl, epochs):\n",
    "    losses = []\n",
    "    for epoch in range(epochs):\n",
    "        for idx, batch in enumerate(dl):\n",
    "             with torch.set_grad_enabled(True):\n",
    "                optimizer.zero_grad()\n",
    "                batch = batch.to(device)\n",
    "                output = model(batch, labels=batch)\n",
    "                loss = output[0]\n",
    "                loss.backward()\n",
    "                losses.append(loss)\n",
    "                optimizer.step()\n",
    "                if idx % 50 == 0:\n",
    "                    print(\"loss: %f, %d\"%(loss, idx))\n",
    "    return losses"
   ]
  },
  {
   "cell_type": "code",
   "execution_count": 32,
   "id": "12b25489-a395-490a-888c-513387ca7830",
   "metadata": {},
   "outputs": [
    {
     "name": "stderr",
     "output_type": "stream",
     "text": [
      "`loss_type=None` was set in the config but it is unrecognised.Using the default loss: `ForCausalLMLoss`.\n"
     ]
    },
    {
     "name": "stdout",
     "output_type": "stream",
     "text": [
      "loss: 3.652445, 0\n",
      "loss: 3.132524, 50\n",
      "loss: 3.032481, 100\n",
      "loss: 2.824971, 150\n",
      "loss: 2.726963, 200\n",
      "loss: 2.815919, 250\n",
      "loss: 2.828111, 300\n",
      "loss: 2.755914, 350\n",
      "loss: 2.808611, 400\n",
      "loss: 2.787791, 450\n",
      "loss: 2.685853, 500\n",
      "loss: 2.761338, 550\n",
      "loss: 2.745694, 600\n",
      "loss: 2.816045, 650\n",
      "loss: 2.839061, 700\n",
      "loss: 2.768119, 750\n",
      "loss: 2.689610, 800\n",
      "loss: 2.737866, 850\n",
      "loss: 2.561253, 900\n",
      "loss: 2.795676, 950\n",
      "loss: 2.877595, 1000\n",
      "loss: 2.910626, 1050\n",
      "loss: 2.716318, 1100\n",
      "loss: 2.811880, 1150\n",
      "loss: 2.680061, 1200\n",
      "loss: 2.544855, 1250\n",
      "loss: 2.729895, 1300\n",
      "loss: 2.681533, 1350\n",
      "loss: 2.649523, 1400\n",
      "loss: 2.795129, 1450\n",
      "loss: 2.692155, 1500\n",
      "loss: 2.758815, 1550\n",
      "loss: 2.592784, 1600\n",
      "loss: 2.566441, 1650\n",
      "loss: 2.598029, 1700\n",
      "loss: 2.704322, 1750\n",
      "loss: 2.548507, 1800\n",
      "loss: 2.777221, 1850\n",
      "loss: 2.664867, 1900\n",
      "loss: 2.578642, 1950\n",
      "loss: 2.525260, 2000\n",
      "loss: 2.816991, 2050\n",
      "loss: 2.672915, 2100\n",
      "loss: 2.585320, 2150\n",
      "loss: 2.727437, 2200\n",
      "loss: 2.647789, 2250\n",
      "loss: 2.735990, 2300\n",
      "loss: 2.712736, 2350\n",
      "loss: 2.595888, 2400\n",
      "loss: 2.723509, 2450\n",
      "loss: 2.537890, 2500\n",
      "loss: 2.607095, 2550\n",
      "loss: 2.614553, 2600\n",
      "loss: 2.668957, 2650\n",
      "loss: 2.546227, 2700\n",
      "loss: 2.561276, 2750\n",
      "loss: 2.673424, 2800\n",
      "loss: 2.621168, 2850\n",
      "loss: 2.598985, 2900\n",
      "loss: 2.492807, 2950\n",
      "loss: 2.530871, 3000\n",
      "loss: 2.459052, 3050\n"
     ]
    }
   ],
   "source": [
    "start = time.time()\n",
    "losses = train(model=model, optimizer=optimizer, dl=dataloader, epochs=1)\n",
    "end = time.time()\n",
    "print(f\"Total training time: {(end-start):.3f} seconds.\")"
   ]
  },
  {
   "cell_type": "markdown",
   "id": "60505bd1-2e6d-4201-884a-8532d08e4b06",
   "metadata": {},
   "source": [
    "## Review Summarization"
   ]
  },
  {
   "cell_type": "code",
   "execution_count": 34,
   "id": "b71c2277-6f88-47e6-a1ce-0e28613c0a82",
   "metadata": {},
   "outputs": [],
   "source": [
    "def topk(probs, n=9):\n",
    "    # The scores are initially softmaxed to convert to probabilities\n",
    "    probs = torch.softmax(probs, dim= -1)\n",
    "    \n",
    "    # PyTorch has its own topk method, which we use here\n",
    "    tokensProb, topIx = torch.topk(probs, k=n)\n",
    "    \n",
    "    # The new selection pool (9 choices) is normalized\n",
    "    tokensProb = tokensProb / torch.sum(tokensProb)\n",
    "\n",
    "    # Send to CPU for numpy handling\n",
    "    tokensProb = tokensProb.cpu().detach().numpy()\n",
    "\n",
    "    # Make a random choice from the pool based on the new prob distribution\n",
    "    choice = np.random.choice(n, 1, p = tokensProb)\n",
    "    tokenId = topIx[choice][0]\n",
    "\n",
    "    return int(tokenId)"
   ]
  },
  {
   "cell_type": "code",
   "execution_count": 35,
   "id": "d243fb60-5642-4eb4-9877-b79ab3540394",
   "metadata": {},
   "outputs": [],
   "source": [
    "def model_infer(model, tokenizer, review, max_length=15):\n",
    "    # Preprocess the init token (task designator)\n",
    "    review_encoded = tokenizer.encode(review)\n",
    "    result = review_encoded\n",
    "    initial_input = torch.tensor(review_encoded).unsqueeze(0).to(device)\n",
    "\n",
    "    with torch.set_grad_enabled(False):\n",
    "        # Feed the init token to the model\n",
    "        output = model(initial_input)\n",
    "\n",
    "        # Flatten the logits at the final time step\n",
    "        logits = output.logits[0,-1]\n",
    "\n",
    "        # Make a top-k choice and append to the result\n",
    "        result.append(topk(logits))\n",
    "\n",
    "        # For max_length times:\n",
    "        for _ in range(max_length):\n",
    "            # Feed the current sequence to the model and make a choice\n",
    "            input = torch.tensor(result).unsqueeze(0).to(device)\n",
    "            output = model(input)\n",
    "            logits = output.logits[0,-1]\n",
    "            res_id = topk(logits)\n",
    "\n",
    "            # If the chosen token is EOS, return the result\n",
    "            if res_id == tokenizer.eos_token_id:\n",
    "                return tokenizer.decode(result)\n",
    "            else: # Append to the sequence \n",
    "                result.append(res_id)\n",
    "    # IF no EOS is generated, return after the max_len\n",
    "    return tokenizer.decode(result)"
   ]
  },
  {
   "cell_type": "code",
   "execution_count": 41,
   "id": "ecbaffe1-e0af-4f43-9278-120662b3d928",
   "metadata": {},
   "outputs": [
    {
     "data": {
      "text/plain": [
       "[\"The Hyderabad municipal corporation failed a second time while trying to implode an illegal building on Monday. During its first attempt, the bottom floor of the structure collapsed, leaving the rest tilted. During the second attempt, the fourth floor of the construction was still standing. Moreover, three labourers who didn't hear the warning were also injured in the controlled explosion.\",\n",
       " 'The Petya ransomware which hit over three lakh computers worldwide on Tuesday uses EternalBlue, a hacking tool used by the NSA to exploit a Windows vulnerability over five years ago, NSA whistleblower Edward Snowden said. The tool was also used in the WannaCry global ransomware attack in May which had hit 150 countries.',\n",
       " 'RJD chief Lalu Prasad Yadav on Saturday said Bihar Chief Minister Nitish Kumar does not belong to Janata Dal (United) anymore and \"it is Sharad Yadav\\'s now.\" This come after BJP President Amit Shah officially invited Kumar to join the National Democratic Alliance. \"He is bowing before the same Amit Shah whom he used to abuse earlier,\" Yadav added.',\n",
       " \"India's first voter Shyam Saran Negi had to take permission from a presiding officer for casting vote in his district, which was different from where he was deputed for election work in 1951. Negi reached the election booth at 6.30 am on the polling day, becoming the first voter, and left for his duty immediately after exercising his franchise.\",\n",
       " 'Maharashtra BJP MP Nanabhau Patole on Friday resigned from the Lok Sabha and the party after expressing displeasure over the party\\'s stand on the state\\'s agrarian crisis. He criticised the state government for not implementing recommendations of Swaminathan Commission, which aims to safeguard the interests of farmers. Patole added he was \"deeply anguished and felt let down by the party\".']"
      ]
     },
     "execution_count": 41,
     "metadata": {},
     "output_type": "execute_result"
    }
   ],
   "source": [
    "sample_reviews = [review.split(\" TL;DR \")[0] for review in random.sample(newssummary_df.to_list(), 5)]\n",
    "sample_reviews"
   ]
  },
  {
   "cell_type": "code",
   "execution_count": null,
   "id": "535e8f90-239c-46d8-9433-2f465a9d0cf7",
   "metadata": {},
   "outputs": [
    {
     "name": "stdout",
     "output_type": "stream",
     "text": [
      "The Hyderabad municipal corporation failed a second time while trying to implode an illegal building on Monday. During its first attempt, the bottom floor of the structure collapsed, leaving the rest tilted. During the second attempt, the fourth floor of the construction was still standing. Moreover, three labourers who didn't hear the warning were also injured in the controlled explosion.\n",
      "Summaries: {'Hyderabad civic body fails to impl', 'Hyderabad civic body fails 2nd', 'Municipal building fails to implode illegal'}\n",
      "\n",
      "The Petya ransomware which hit over three lakh computers worldwide on Tuesday uses EternalBlue, a hacking tool used by the NSA to exploit a Windows vulnerability over five years ago, NSA whistleblower Edward Snowden said. The tool was also used in the WannaCry global ransomware attack in May which had hit 150 countries.\n",
      "Summaries: {'Petya ransomware uses NSA to exploit Windows vulnerability', 'Petya ransomware uses NSA tool to hack computers: Snowden', 'Petya attacks 3 lakh computers worldwide: Snowden'}\n",
      "\n",
      "RJD chief Lalu Prasad Yadav on Saturday said Bihar Chief Minister Nitish Kumar does not belong to Janata Dal (United) anymore and \"it is Sharad Yadav's now.\" This come after BJP President Amit Shah officially invited Kumar to join the National Democratic Alliance. \"He is bowing before the same Amit Shah whom he used to abuse earlier,\" Yadav added.\n"
     ]
    }
   ],
   "source": [
    "for review in sample_reviews:\n",
    "    summaries = set()\n",
    "    print(review)\n",
    "    while len(summaries) < 3:\n",
    "        summary = model_infer(model, tokenizer, review + \" TL;DR \").split(\" TL;DR \")[1].strip()\n",
    "        if summary not in summaries:\n",
    "            summaries.add(summary)\n",
    "    print(\"Summaries: \"+ str(summaries) +\"\\n\")"
   ]
  },
  {
   "cell_type": "markdown",
   "id": "eba3a097-7f92-4752-a75c-73b31907aa65",
   "metadata": {},
   "source": [
    "## (20 pts) Based on the trained models, write code to generate summarizations of some example news."
   ]
  },
  {
   "cell_type": "markdown",
   "id": "7828840d-ba61-4bd1-8703-e2d88b376665",
   "metadata": {},
   "source": [
    "# The end!"
   ]
  }
 ],
 "metadata": {
  "kernelspec": {
   "display_name": "Python 3 (ipykernel)",
   "language": "python",
   "name": "python3"
  },
  "language_info": {
   "codemirror_mode": {
    "name": "ipython",
    "version": 3
   },
   "file_extension": ".py",
   "mimetype": "text/x-python",
   "name": "python",
   "nbconvert_exporter": "python",
   "pygments_lexer": "ipython3",
   "version": "3.9.21"
  }
 },
 "nbformat": 4,
 "nbformat_minor": 5
}
