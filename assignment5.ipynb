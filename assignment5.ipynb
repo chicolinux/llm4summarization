{
 "cells": [
  {
   "cell_type": "markdown",
   "id": "335842ee-1def-42ce-81b6-b9abaf86b2b6",
   "metadata": {},
   "source": [
    "# CSCI 4435/5435: Text Mining & Natural Language Processing\n",
    "## Assignment 5: Using LLMs for Summarization (using tl;dr)\n",
    "### Student: Miguel Guirao\n",
    "### Aggie ID: 800699208"
   ]
  },
  {
   "cell_type": "markdown",
   "id": "bb58e69f-0b55-4e24-b101-b327a14aaee0",
   "metadata": {},
   "source": [
    "## Summary\n",
    "0. Reference: [Amazon Review Summarization Using GPT-2 And PyTorch](https://www.nbshare.io/notebook/764386829/Amazon-Review-Summarization-Using-GPT-2-And-PyTorch/)\n",
    "1. The news_summary dataset has two features and 98,401 examples. We will be using the \"text\" feature for training an LLM and \"headlines\" as True label."
   ]
  },
  {
   "cell_type": "code",
   "execution_count": 1,
   "id": "1accaf85-d480-43c8-9cc8-1c6a1ea6c4ff",
   "metadata": {},
   "outputs": [],
   "source": [
    "# import the required libraries\n",
    "import pandas as pd\n",
    "import re\n",
    "import random\n",
    "import time\n",
    "import numpy as np\n",
    "import matplotlib.pyplot as plt\n",
    "import torch\n",
    "from torch.utils.data import Dataset, DataLoader\n",
    "from transformers import AutoTokenizer, AutoModelWithLMHead, AutoModelForCausalLM, AutoModelForMaskedLM, AutoModelForSeq2SeqLM, GPT2LMHeadModel\n",
    "import torch.optim as optim\n",
    "import transformers"
   ]
  },
  {
   "cell_type": "code",
   "execution_count": 2,
   "id": "f8ecefe3-ef59-485a-82ec-f69d8d739743",
   "metadata": {},
   "outputs": [
    {
     "name": "stdout",
     "output_type": "stream",
     "text": [
      "Pandas: 2.2.3\n",
      "Numpy: 1.26.4\n",
      "Transformers: 4.50.0\n"
     ]
    }
   ],
   "source": [
    "# Check the versions I am using\n",
    "print(f\"Pandas: {pd.__version__}\")\n",
    "print(f\"Numpy: {np.__version__}\")\n",
    "print(f\"Transformers: {transformers.__version__}\")"
   ]
  },
  {
   "cell_type": "code",
   "execution_count": 3,
   "id": "2e2e3ff5-42b2-4e0f-b6ab-92231a801194",
   "metadata": {},
   "outputs": [
    {
     "name": "stdout",
     "output_type": "stream",
     "text": [
      "Using compute device: cuda:0\n"
     ]
    }
   ],
   "source": [
    "device = torch.device('cuda:0' if torch.cuda.is_available() else 'cpu')\n",
    "print(f\"Using compute device: {device}\")"
   ]
  },
  {
   "cell_type": "markdown",
   "id": "926a012d-d523-4d71-875a-61d3fafe1218",
   "metadata": {},
   "source": [
    "### I mainly used the Amazon implementation as a reference, with the execption that I ploted a boxplot to determine the maximun lenght of the strings. The median is around 70 mand the maximun around 80 characters long. This lenght represents the length of the text plus the \" TL;DR \" token plus the headlines.\n",
    "### I also added a news article from the NMSU web site (you can see it in cell #5) and generated sample headlines by the end of the notebook, in cell # 27.\n",
    "### The training process took me around 35 minutes on an NVIDIA RTX A2000 12GB."
   ]
  },
  {
   "cell_type": "markdown",
   "id": "2db47601-5a1d-42dc-a700-bc301cdd6fbb",
   "metadata": {},
   "source": [
    "## 1. Load dataset"
   ]
  },
  {
   "cell_type": "code",
   "execution_count": 4,
   "id": "a58a94e5-005f-416a-8e4b-bd83f7e7b468",
   "metadata": {},
   "outputs": [
    {
     "data": {
      "text/html": [
       "<div>\n",
       "<style scoped>\n",
       "    .dataframe tbody tr th:only-of-type {\n",
       "        vertical-align: middle;\n",
       "    }\n",
       "\n",
       "    .dataframe tbody tr th {\n",
       "        vertical-align: top;\n",
       "    }\n",
       "\n",
       "    .dataframe thead th {\n",
       "        text-align: right;\n",
       "    }\n",
       "</style>\n",
       "<table border=\"1\" class=\"dataframe\">\n",
       "  <thead>\n",
       "    <tr style=\"text-align: right;\">\n",
       "      <th></th>\n",
       "      <th>headlines</th>\n",
       "      <th>text</th>\n",
       "    </tr>\n",
       "  </thead>\n",
       "  <tbody>\n",
       "    <tr>\n",
       "      <th>0</th>\n",
       "      <td>upGrad learner switches to career in ML &amp; Al w...</td>\n",
       "      <td>Saurav Kant, an alumnus of upGrad and IIIT-B's...</td>\n",
       "    </tr>\n",
       "    <tr>\n",
       "      <th>1</th>\n",
       "      <td>Delhi techie wins free food from Swiggy for on...</td>\n",
       "      <td>Kunal Shah's credit card bill payment platform...</td>\n",
       "    </tr>\n",
       "    <tr>\n",
       "      <th>2</th>\n",
       "      <td>New Zealand end Rohit Sharma-led India's 12-ma...</td>\n",
       "      <td>New Zealand defeated India by 8 wickets in the...</td>\n",
       "    </tr>\n",
       "    <tr>\n",
       "      <th>3</th>\n",
       "      <td>Aegon life iTerm insurance plan helps customer...</td>\n",
       "      <td>With Aegon Life iTerm Insurance plan, customer...</td>\n",
       "    </tr>\n",
       "    <tr>\n",
       "      <th>4</th>\n",
       "      <td>Have known Hirani for yrs, what if MeToo claim...</td>\n",
       "      <td>Speaking about the sexual harassment allegatio...</td>\n",
       "    </tr>\n",
       "  </tbody>\n",
       "</table>\n",
       "</div>"
      ],
      "text/plain": [
       "                                           headlines  \\\n",
       "0  upGrad learner switches to career in ML & Al w...   \n",
       "1  Delhi techie wins free food from Swiggy for on...   \n",
       "2  New Zealand end Rohit Sharma-led India's 12-ma...   \n",
       "3  Aegon life iTerm insurance plan helps customer...   \n",
       "4  Have known Hirani for yrs, what if MeToo claim...   \n",
       "\n",
       "                                                text  \n",
       "0  Saurav Kant, an alumnus of upGrad and IIIT-B's...  \n",
       "1  Kunal Shah's credit card bill payment platform...  \n",
       "2  New Zealand defeated India by 8 wickets in the...  \n",
       "3  With Aegon Life iTerm Insurance plan, customer...  \n",
       "4  Speaking about the sexual harassment allegatio...  "
      ]
     },
     "execution_count": 4,
     "metadata": {},
     "output_type": "execute_result"
    }
   ],
   "source": [
    "news_df = pd.read_csv('news_summary.csv')\n",
    "news_df.head()"
   ]
  },
  {
   "cell_type": "markdown",
   "id": "4eca6b90-060b-45fb-9492-7b4460ccbc47",
   "metadata": {},
   "source": [
    "## 1.1 Let's add one single article from the nmsu.edu web site. https://newsroom.nmsu.edu/news/nmsu-students--art-selected-for-public-spaces/s/63fccb18-5879-44f0-8d82-1eb4291d0e7d?cat=news|headlines-by-college"
   ]
  },
  {
   "cell_type": "code",
   "execution_count": 5,
   "id": "6beabd86-1c75-438c-b296-4397b7fe6333",
   "metadata": {},
   "outputs": [
    {
     "data": {
      "text/html": [
       "<div>\n",
       "<style scoped>\n",
       "    .dataframe tbody tr th:only-of-type {\n",
       "        vertical-align: middle;\n",
       "    }\n",
       "\n",
       "    .dataframe tbody tr th {\n",
       "        vertical-align: top;\n",
       "    }\n",
       "\n",
       "    .dataframe thead th {\n",
       "        text-align: right;\n",
       "    }\n",
       "</style>\n",
       "<table border=\"1\" class=\"dataframe\">\n",
       "  <thead>\n",
       "    <tr style=\"text-align: right;\">\n",
       "      <th></th>\n",
       "      <th>headlines</th>\n",
       "      <th>text</th>\n",
       "    </tr>\n",
       "  </thead>\n",
       "  <tbody>\n",
       "    <tr>\n",
       "      <th>98397</th>\n",
       "      <td>First song from Sonakshi Sinha's 'Noor' titled...</td>\n",
       "      <td>'Uff Yeh', the first song from the Sonakshi Si...</td>\n",
       "    </tr>\n",
       "    <tr>\n",
       "      <th>98398</th>\n",
       "      <td>'The Matrix' film to get a reboot: Reports</td>\n",
       "      <td>According to reports, a new version of the 199...</td>\n",
       "    </tr>\n",
       "    <tr>\n",
       "      <th>98399</th>\n",
       "      <td>Snoop Dogg aims gun at clown dressed as Trump ...</td>\n",
       "      <td>A new music video shows rapper Snoop Dogg aimi...</td>\n",
       "    </tr>\n",
       "    <tr>\n",
       "      <th>98400</th>\n",
       "      <td>Madhesi Morcha withdraws support to Nepalese g...</td>\n",
       "      <td>Madhesi Morcha, an alliance of seven political...</td>\n",
       "    </tr>\n",
       "    <tr>\n",
       "      <th>98401</th>\n",
       "      <td>NMSU students’ art selected for public spaces</td>\n",
       "      <td>Two New Mexico State University student artist...</td>\n",
       "    </tr>\n",
       "  </tbody>\n",
       "</table>\n",
       "</div>"
      ],
      "text/plain": [
       "                                               headlines  \\\n",
       "98397  First song from Sonakshi Sinha's 'Noor' titled...   \n",
       "98398         'The Matrix' film to get a reboot: Reports   \n",
       "98399  Snoop Dogg aims gun at clown dressed as Trump ...   \n",
       "98400  Madhesi Morcha withdraws support to Nepalese g...   \n",
       "98401      NMSU students’ art selected for public spaces   \n",
       "\n",
       "                                                    text  \n",
       "98397  'Uff Yeh', the first song from the Sonakshi Si...  \n",
       "98398  According to reports, a new version of the 199...  \n",
       "98399  A new music video shows rapper Snoop Dogg aimi...  \n",
       "98400  Madhesi Morcha, an alliance of seven political...  \n",
       "98401  Two New Mexico State University student artist...  "
      ]
     },
     "execution_count": 5,
     "metadata": {},
     "output_type": "execute_result"
    }
   ],
   "source": [
    "headlines = \"NMSU students’ art selected for public spaces\"\n",
    "text = \"Two New Mexico State University student artists, Yalet Yanar and Citlali Delgado, have been selected to showcase their work for Art Stop 2025. Their pieces, each with unique and powerful themes, will be displayed in public spaces across Las Cruces, bringing their artistic vision to the community. The event aims to showcase a range of creative expressions, offering the community an opportunity to engage with thought-provoking art in everyday spaces.\"\n",
    "new_row = pd.DataFrame([{'headlines': headlines, 'text': text}])\n",
    "news_df = pd.concat([news_df, new_row], ignore_index=True)\n",
    "news_df.tail()"
   ]
  },
  {
   "cell_type": "markdown",
   "id": "36420111-18bb-4d45-ba63-3e3d0ebcb10a",
   "metadata": {},
   "source": [
    "## 2. Data Preprocessing"
   ]
  },
  {
   "cell_type": "code",
   "execution_count": 6,
   "id": "bc3ec946-dbb4-4bb0-8a9f-3e8a0a352c61",
   "metadata": {},
   "outputs": [
    {
     "data": {
      "text/plain": [
       "0    Saurav Kant, an alumnus of upGrad and IIIT-B's...\n",
       "1    Kunal Shah's credit card bill payment platform...\n",
       "2    New Zealand defeated India by 8 wickets in the...\n",
       "3    With Aegon Life iTerm Insurance plan, customer...\n",
       "4    Speaking about the sexual harassment allegatio...\n",
       "dtype: object"
      ]
     },
     "execution_count": 6,
     "metadata": {},
     "output_type": "execute_result"
    }
   ],
   "source": [
    "newssummary_df = news_df['text'] + \" TL;DR \" + news_df['headlines']\n",
    "newssummary_df.head()"
   ]
  },
  {
   "cell_type": "code",
   "execution_count": 7,
   "id": "3759b495-cd96-454e-8ab9-4d72936f7fcc",
   "metadata": {},
   "outputs": [
    {
     "name": "stdout",
     "output_type": "stream",
     "text": [
      "Saurav Kant, an alumnus of upGrad and IIIT-B's PG Program in Machine learning and Artificial Intelligence, was a Sr Systems Engineer at Infosys with almost 5 years of work experience. The program and upGrad's 360-degree career support helped him transition to a Data Scientist at Tech Mahindra with 90% salary hike. upGrad's Online Power Learning has powered 3 lakh+ careers. TL;DR upGrad learner switches to career in ML & Al with 90% salary hike\n"
     ]
    }
   ],
   "source": [
    "print(newssummary_df[0])"
   ]
  },
  {
   "cell_type": "code",
   "execution_count": 8,
   "id": "d839d570-a184-4e1e-ba89-550ea2ea44f6",
   "metadata": {},
   "outputs": [
    {
     "name": "stdout",
     "output_type": "stream",
     "text": [
      "Two New Mexico State University student artists, Yalet Yanar and Citlali Delgado, have been selected to showcase their work for Art Stop 2025. Their pieces, each with unique and powerful themes, will be displayed in public spaces across Las Cruces, bringing their artistic vision to the community. The event aims to showcase a range of creative expressions, offering the community an opportunity to engage with thought-provoking art in everyday spaces. TL;DR NMSU students’ art selected for public spaces\n"
     ]
    }
   ],
   "source": [
    "print(newssummary_df[98401])"
   ]
  },
  {
   "cell_type": "markdown",
   "id": "f5d11f84-91eb-41a8-be48-fe6af5c23226",
   "metadata": {},
   "source": [
    "### In order to select a proper fixed length input, I get the lenghts of all reviews and create a boxplot. With the boxplot created I can easily see that the median input length is around 70 words, with a maximun of 80 words.\n",
    "### I select 80 as the fixed length input."
   ]
  },
  {
   "cell_type": "code",
   "execution_count": 9,
   "id": "d73421dd-b8a7-4bca-bd62-f3750afd43f2",
   "metadata": {},
   "outputs": [
    {
     "name": "stdout",
     "output_type": "stream",
     "text": [
      "3 79\n"
     ]
    }
   ],
   "source": [
    "newssummary_df_length = [len(review.split()) for review in newssummary_df] #/len(reviews)\n",
    "print(min(newssummary_df_length), max(newssummary_df_length))"
   ]
  },
  {
   "cell_type": "code",
   "execution_count": 10,
   "id": "a77bdbbd-fdfd-4a3b-baa8-23220a32c16b",
   "metadata": {},
   "outputs": [
    {
     "data": {
      "image/png": "[encoded data removed]",
      "text/plain": [
       "<Figure size 640x480 with 1 Axes>"
      ]
     },
     "metadata": {},
     "output_type": "display_data"
    }
   ],
   "source": [
    "plt.boxplot(newssummary_df_length)\n",
    "plt.show()"
   ]
  },
  {
   "cell_type": "code",
   "execution_count": 11,
   "id": "101131d9-144e-4f32-b10a-b2ab6631a288",
   "metadata": {},
   "outputs": [],
   "source": [
    "max_length = 80"
   ]
  },
  {
   "cell_type": "markdown",
   "id": "0a35065c-f637-4cc7-a299-c79c580b1bff",
   "metadata": {},
   "source": [
    "## Setup and Training"
   ]
  },
  {
   "cell_type": "code",
   "execution_count": 12,
   "id": "b7a9c906-5a0e-412b-85c7-701e6209f87a",
   "metadata": {},
   "outputs": [],
   "source": [
    "# AutoModelForCausalLM: https://huggingface.co/docs/trl/main/en/models#trl.AutoModelForCausalLMWithValueHead\n",
    "# AutoModelForMaskedLM: \n",
    "# https://huggingface.co/docs/transformers/main/en/model_doc/gpt2#transformers.GPT2LMHeadModel"
   ]
  },
  {
   "cell_type": "code",
   "execution_count": 13,
   "id": "da97212d-2b79-44c8-bc9e-30d2577328c2",
   "metadata": {},
   "outputs": [],
   "source": [
    "tokenizer = AutoTokenizer.from_pretrained(\"gpt2\")\n",
    "#model = AutoModelWithLMHead.from_pretrained(\"gpt2\") # Deprecated. Options: AutoModelForCausalLM, AutoModelForMaskedLM, AutoModelForSeq2SeqLM\n",
    "model = AutoModelForCausalLM.from_pretrained(\"gpt2\")\n",
    "model = model.to(device)"
   ]
  },
  {
   "cell_type": "code",
   "execution_count": 14,
   "id": "d962c8cc-017f-44e2-beac-78bf4c6f08dd",
   "metadata": {},
   "outputs": [],
   "source": [
    "tokenizer = AutoTokenizer.from_pretrained(\"openai-community/gpt2\")\n",
    "model = GPT2LMHeadModel.from_pretrained(\"openai-community/gpt2\")\n",
    "model = model.to(device)"
   ]
  },
  {
   "cell_type": "code",
   "execution_count": 15,
   "id": "605da5c9-0cee-4fd7-bd30-31df538217b9",
   "metadata": {},
   "outputs": [],
   "source": [
    "optimizer = optim.AdamW(model.parameters(), lr=3e-4)"
   ]
  },
  {
   "cell_type": "code",
   "execution_count": 16,
   "id": "2d8df641-5c00-4cd2-b9bc-c6fd1160501f",
   "metadata": {},
   "outputs": [
    {
     "data": {
      "text/plain": [
       "[24811, 26, 7707, 220]"
      ]
     },
     "execution_count": 16,
     "metadata": {},
     "output_type": "execute_result"
    }
   ],
   "source": [
    "tokenizer.encode(\" TL;DR \")"
   ]
  },
  {
   "cell_type": "code",
   "execution_count": 17,
   "id": "c9df810e-3d04-47ad-83c9-e9a7811577d9",
   "metadata": {},
   "outputs": [],
   "source": [
    "extra_length = len(tokenizer.encode(\" TL;DR \")) "
   ]
  },
  {
   "cell_type": "code",
   "execution_count": 18,
   "id": "b46738b7-986f-4a9a-9ba6-fa9c8d8ccbd9",
   "metadata": {},
   "outputs": [],
   "source": [
    "class ReviewDataset(Dataset):  \n",
    "    def __init__(self, tokenizer, reviews, max_len):\n",
    "        self.max_len = max_len\n",
    "        self.tokenizer = tokenizer\n",
    "        self.eos = self.tokenizer.eos_token\n",
    "        self.eos_id = self.tokenizer.eos_token_id\n",
    "        self.reviews = reviews\n",
    "        self.result = []\n",
    "\n",
    "        for review in self.reviews:\n",
    "            # Encode the text using tokenizer.encode(). We add EOS at the end\n",
    "            tokenized = self.tokenizer.encode(review + self.eos)\n",
    "            \n",
    "            # Padding/truncating the encoded sequence to max_len \n",
    "            padded = self.pad_truncate(tokenized)            \n",
    "\n",
    "            # Creating a tensor and adding to the result\n",
    "            self.result.append(torch.tensor(padded))\n",
    "\n",
    "    def __len__(self):\n",
    "        return len(self.result)\n",
    "\n",
    "\n",
    "    def __getitem__(self, item):\n",
    "        return self.result[item]\n",
    "\n",
    "    def pad_truncate(self, name):\n",
    "        name_length = len(name) - extra_length\n",
    "        if name_length < self.max_len:\n",
    "            difference = self.max_len - name_length\n",
    "            result = name + [self.eos_id] * difference\n",
    "        elif name_length > self.max_len:\n",
    "            result = name[:self.max_len + 3]+[self.eos_id] \n",
    "        else:\n",
    "            result = name\n",
    "        return result"
   ]
  },
  {
   "cell_type": "code",
   "execution_count": 19,
   "id": "7c19faf8-6302-42e8-992b-fa4a6b45ff06",
   "metadata": {},
   "outputs": [],
   "source": [
    "dataset = ReviewDataset(tokenizer, newssummary_df, max_length)"
   ]
  },
  {
   "cell_type": "markdown",
   "id": "3261d4c3-7ad6-448b-bc4b-241e56c7fce0",
   "metadata": {},
   "source": [
    "## (80 pts) Train a GPT model to perform summarization using tl;dr token."
   ]
  },
  {
   "cell_type": "code",
   "execution_count": 20,
   "id": "61f306fe-1eba-4fc5-aea9-19d24df14a48",
   "metadata": {},
   "outputs": [],
   "source": [
    "dataloader = DataLoader(dataset, batch_size=32, shuffle=True, drop_last=True)"
   ]
  },
  {
   "cell_type": "code",
   "execution_count": 21,
   "id": "9604cd35-4ce0-429a-bcaf-41c69da2484b",
   "metadata": {},
   "outputs": [],
   "source": [
    "def train(model, optimizer, dl, epochs):\n",
    "    losses = []\n",
    "    for epoch in range(epochs):\n",
    "        for idx, batch in enumerate(dl):\n",
    "             with torch.set_grad_enabled(True):\n",
    "                optimizer.zero_grad()\n",
    "                batch = batch.to(device)\n",
    "                output = model(batch, labels=batch)\n",
    "                loss = output[0]\n",
    "                loss.backward()\n",
    "                losses.append(loss)\n",
    "                optimizer.step()\n",
    "                if idx % 50 == 0:\n",
    "                    print(\"loss: %f, %d\"%(loss, idx))\n",
    "    return losses"
   ]
  },
  {
   "cell_type": "code",
   "execution_count": 22,
   "id": "12b25489-a395-490a-888c-513387ca7830",
   "metadata": {},
   "outputs": [
    {
     "name": "stderr",
     "output_type": "stream",
     "text": [
      "`loss_type=None` was set in the config but it is unrecognised.Using the default loss: `ForCausalLMLoss`.\n"
     ]
    },
    {
     "name": "stdout",
     "output_type": "stream",
     "text": [
      "loss: 3.551122, 0\n",
      "loss: 3.097840, 50\n",
      "loss: 2.905638, 100\n",
      "loss: 2.861298, 150\n",
      "loss: 2.805082, 200\n",
      "loss: 2.802462, 250\n",
      "loss: 2.820668, 300\n",
      "loss: 2.817986, 350\n",
      "loss: 2.701405, 400\n",
      "loss: 2.758623, 450\n",
      "loss: 2.813486, 500\n",
      "loss: 2.771657, 550\n",
      "loss: 2.748660, 600\n",
      "loss: 2.832487, 650\n",
      "loss: 2.737210, 700\n",
      "loss: 2.762196, 750\n",
      "loss: 2.840198, 800\n",
      "loss: 2.799573, 850\n",
      "loss: 2.793288, 900\n",
      "loss: 2.858135, 950\n",
      "loss: 2.578915, 1000\n",
      "loss: 2.832851, 1050\n",
      "loss: 2.604174, 1100\n",
      "loss: 2.968117, 1150\n",
      "loss: 2.687154, 1200\n",
      "loss: 2.668963, 1250\n",
      "loss: 2.643079, 1300\n",
      "loss: 2.759460, 1350\n",
      "loss: 2.641116, 1400\n",
      "loss: 2.702096, 1450\n",
      "loss: 2.722552, 1500\n",
      "loss: 2.767593, 1550\n",
      "loss: 2.615092, 1600\n",
      "loss: 2.571893, 1650\n",
      "loss: 2.680943, 1700\n",
      "loss: 2.752356, 1750\n",
      "loss: 2.607556, 1800\n",
      "loss: 2.765063, 1850\n",
      "loss: 2.722380, 1900\n",
      "loss: 2.684078, 1950\n",
      "loss: 2.733783, 2000\n",
      "loss: 2.655906, 2050\n",
      "loss: 2.601798, 2100\n",
      "loss: 2.613528, 2150\n",
      "loss: 2.618467, 2200\n",
      "loss: 2.717565, 2250\n",
      "loss: 2.652038, 2300\n",
      "loss: 2.694995, 2350\n",
      "loss: 2.634531, 2400\n",
      "loss: 2.581673, 2450\n",
      "loss: 2.705044, 2500\n",
      "loss: 2.564815, 2550\n",
      "loss: 2.598219, 2600\n",
      "loss: 2.482633, 2650\n",
      "loss: 2.663117, 2700\n",
      "loss: 2.555166, 2750\n",
      "loss: 2.676582, 2800\n",
      "loss: 2.579442, 2850\n",
      "loss: 2.606678, 2900\n",
      "loss: 2.523618, 2950\n",
      "loss: 2.459933, 3000\n",
      "loss: 2.685948, 3050\n",
      "Total training time: 2112.575 seconds.\n"
     ]
    }
   ],
   "source": [
    "start = time.time()\n",
    "losses = train(model=model, optimizer=optimizer, dl=dataloader, epochs=1)\n",
    "end = time.time()\n",
    "print(f\"Total training time: {(end-start):.3f} seconds.\")"
   ]
  },
  {
   "cell_type": "markdown",
   "id": "60505bd1-2e6d-4201-884a-8532d08e4b06",
   "metadata": {},
   "source": [
    "## Review Summarization"
   ]
  },
  {
   "cell_type": "code",
   "execution_count": 23,
   "id": "b71c2277-6f88-47e6-a1ce-0e28613c0a82",
   "metadata": {},
   "outputs": [],
   "source": [
    "def topk(probs, n=9):\n",
    "    # The scores are initially softmaxed to convert to probabilities\n",
    "    probs = torch.softmax(probs, dim= -1)\n",
    "    \n",
    "    # PyTorch has its own topk method, which we use here\n",
    "    tokensProb, topIx = torch.topk(probs, k=n)\n",
    "    \n",
    "    # The new selection pool (9 choices) is normalized\n",
    "    tokensProb = tokensProb / torch.sum(tokensProb)\n",
    "\n",
    "    # Send to CPU for numpy handling\n",
    "    tokensProb = tokensProb.cpu().detach().numpy()\n",
    "\n",
    "    # Make a random choice from the pool based on the new prob distribution\n",
    "    choice = np.random.choice(n, 1, p = tokensProb)\n",
    "    tokenId = topIx[choice][0]\n",
    "\n",
    "    return int(tokenId)"
   ]
  },
  {
   "cell_type": "code",
   "execution_count": 24,
   "id": "d243fb60-5642-4eb4-9877-b79ab3540394",
   "metadata": {},
   "outputs": [],
   "source": [
    "def model_infer(model, tokenizer, review, max_length=15):\n",
    "    # Preprocess the init token (task designator)\n",
    "    review_encoded = tokenizer.encode(review)\n",
    "    result = review_encoded\n",
    "    initial_input = torch.tensor(review_encoded).unsqueeze(0).to(device)\n",
    "\n",
    "    with torch.set_grad_enabled(False):\n",
    "        # Feed the init token to the model\n",
    "        output = model(initial_input)\n",
    "\n",
    "        # Flatten the logits at the final time step\n",
    "        logits = output.logits[0,-1]\n",
    "\n",
    "        # Make a top-k choice and append to the result\n",
    "        result.append(topk(logits))\n",
    "\n",
    "        # For max_length times:\n",
    "        for _ in range(max_length):\n",
    "            # Feed the current sequence to the model and make a choice\n",
    "            input = torch.tensor(result).unsqueeze(0).to(device)\n",
    "            output = model(input)\n",
    "            logits = output.logits[0,-1]\n",
    "            res_id = topk(logits)\n",
    "\n",
    "            # If the chosen token is EOS, return the result\n",
    "            if res_id == tokenizer.eos_token_id:\n",
    "                return tokenizer.decode(result)\n",
    "            else: # Append to the sequence \n",
    "                result.append(res_id)\n",
    "    # IF no EOS is generated, return after the max_len\n",
    "    return tokenizer.decode(result)"
   ]
  },
  {
   "cell_type": "code",
   "execution_count": 25,
   "id": "ecbaffe1-e0af-4f43-9278-120662b3d928",
   "metadata": {},
   "outputs": [
    {
     "name": "stdout",
     "output_type": "stream",
     "text": [
      "[\"In a world where negative news is all around us, RPG has introduced Happiness Studios, a platform of positive stories. This is in line with the Group's tagline â\\x80\\x93 Hello Happiness. With this, RPG launches its Instagram handle where it will post real stories of courage and change, which enable progress, the truest embodiment of Happiness.\", \"Pakistani actress-singer Reshma has been shot dead by her husband in the country's Khyber Pakhtunkhwa province. Reshma, who was the accused's fourth wife, used to live with her brother. Reshma's husband along with an accomplice entered the house and opened fire on her, police said. This is reportedly this year's 15th incident of violence against female artists in Khyber Pakhtunkhwa.\", \"The Madhya Pradesh government has announced a â\\x82¹50 lakh cash award for the Indian women's cricket team, which finished as runners-up after losing to England in the Women's Cricket World Cup final on Sunday. The state Chief Minister Shivraj Singh Chouhan tweeted that the award will be given to the team at a grand felicitation ceremony in Bhopal.  \", \"The government has said e-commerce companies aren't liable to collect Tax Collected at Source (TCS) from suppliers with less than â\\x82¹20 lakh turnover and who aren't registered under GST. GST provisions, beginning October 1, required e-commerce companies to deduct 1% TCS before making payments to suppliers. This comes after companies faced trouble deducting TCS and depositing it to the government.\", 'Veteran actor Asrani, while criticising the #MeToo movement, said, \"I support women...but all this is mostly for publicity, part of film promotions and nothing else.\" \"All this is rubbish, and 90 per cent lies, just to sell it to magazines and for popularity,\" he added. Asrani further said, \"Accusations and blames are all filmy things. Mere accusations mean nothing.\" '] 5\n"
     ]
    }
   ],
   "source": [
    "sample_reviews = [review.split(\" TL;DR \")[0] for review in random.sample(newssummary_df.to_list(), 5)]\n",
    "print(sample_reviews, len(sample_reviews))"
   ]
  },
  {
   "cell_type": "markdown",
   "id": "eba3a097-7f92-4752-a75c-73b31907aa65",
   "metadata": {},
   "source": [
    "## (20 pts) Based on the trained models, write code to generate summarizations of some example news."
   ]
  },
  {
   "cell_type": "code",
   "execution_count": 26,
   "id": "c3411d8f-1123-440b-8386-ea550da1f8f3",
   "metadata": {},
   "outputs": [
    {
     "name": "stdout",
     "output_type": "stream",
     "text": [
      "[\"In a world where negative news is all around us, RPG has introduced Happiness Studios, a platform of positive stories. This is in line with the Group's tagline â\\x80\\x93 Hello Happiness. With this, RPG launches its Instagram handle where it will post real stories of courage and change, which enable progress, the truest embodiment of Happiness.\", \"Pakistani actress-singer Reshma has been shot dead by her husband in the country's Khyber Pakhtunkhwa province. Reshma, who was the accused's fourth wife, used to live with her brother. Reshma's husband along with an accomplice entered the house and opened fire on her, police said. This is reportedly this year's 15th incident of violence against female artists in Khyber Pakhtunkhwa.\", \"The Madhya Pradesh government has announced a â\\x82¹50 lakh cash award for the Indian women's cricket team, which finished as runners-up after losing to England in the Women's Cricket World Cup final on Sunday. The state Chief Minister Shivraj Singh Chouhan tweeted that the award will be given to the team at a grand felicitation ceremony in Bhopal.  \", \"The government has said e-commerce companies aren't liable to collect Tax Collected at Source (TCS) from suppliers with less than â\\x82¹20 lakh turnover and who aren't registered under GST. GST provisions, beginning October 1, required e-commerce companies to deduct 1% TCS before making payments to suppliers. This comes after companies faced trouble deducting TCS and depositing it to the government.\", 'Veteran actor Asrani, while criticising the #MeToo movement, said, \"I support women...but all this is mostly for publicity, part of film promotions and nothing else.\" \"All this is rubbish, and 90 per cent lies, just to sell it to magazines and for popularity,\" he added. Asrani further said, \"Accusations and blames are all filmy things. Mere accusations mean nothing.\" ', 'Two New Mexico State University student artists, Yalet Yanar and Citlali Delgado, have been selected to showcase their work for Art Stop 2025. Their pieces, each with unique and powerful themes, will be displayed in public spaces across Las Cruces, bringing their artistic vision to the community. The event aims to showcase a range of creative expressions, offering the community an opportunity to engage with thought-provoking art in everyday spaces.'] 6\n"
     ]
    }
   ],
   "source": [
    "sample_nmsu_review = []\n",
    "nmsu_review = newssummary_df.to_list()[98401]\n",
    "sample_nmsu_review.append(nmsu_review.split(\" TL;DR \")[0]) # list: 2\n",
    "sample_nmsu_review # list: 1\n",
    "sample_reviews.append(sample_nmsu_review[0])\n",
    "print(sample_reviews, len(sample_reviews))"
   ]
  },
  {
   "cell_type": "code",
   "execution_count": 27,
   "id": "535e8f90-239c-46d8-9433-2f465a9d0cf7",
   "metadata": {},
   "outputs": [
    {
     "name": "stdout",
     "output_type": "stream",
     "text": [
      "In a world where negative news is all around us, RPG has introduced Happiness Studios, a platform of positive stories. This is in line with the Group's tagline â Hello Happiness. With this, RPG launches its Instagram handle where it will post real stories of courage and change, which enable progress, the truest embodiment of Happiness.\n",
      "Summaries: {'RPG launches platform of positive stories �', \"RPG's platform for positive stories launched\", 'RPG launches Happiness Studios to bring happiness'}\n",
      "\n",
      "Pakistani actress-singer Reshma has been shot dead by her husband in the country's Khyber Pakhtunkhwa province. Reshma, who was the accused's fourth wife, used to live with her brother. Reshma's husband along with an accomplice entered the house and opened fire on her, police said. This is reportedly this year's 15th incident of violence against female artists in Khyber Pakhtunkhwa.\n",
      "Summaries: {'Reshma shot dead by husband in Pakistan', 'Reshma killed with husband by husband in Pakhtunk', 'Reshma shot dead by husband in Pakhtunk'}\n",
      "\n",
      "The Madhya Pradesh government has announced a â¹50 lakh cash award for the Indian women's cricket team, which finished as runners-up after losing to England in the Women's Cricket World Cup final on Sunday. The state Chief Minister Shivraj Singh Chouhan tweeted that the award will be given to the team at a grand felicitation ceremony in Bhopal.  \n",
      "Summaries: {'', 'TL;', '<|endoftext|>'}\n",
      "\n",
      "The government has said e-commerce companies aren't liable to collect Tax Collected at Source (TCS) from suppliers with less than â¹20 lakh turnover and who aren't registered under GST. GST provisions, beginning October 1, required e-commerce companies to deduct 1% TCS before making payments to suppliers. This comes after companies faced trouble deducting TCS and depositing it to the government.\n",
      "Summaries: {'Pay tax on suppliers with less than â\\x82¹20k T', 'E-commerce firms not liable to pay GST', \"GST on suppliers who aren't registered in GST\"}\n",
      "\n",
      "Veteran actor Asrani, while criticising the #MeToo movement, said, \"I support women...but all this is mostly for publicity, part of film promotions and nothing else.\" \"All this is rubbish, and 90 per cent lies, just to sell it to magazines and for popularity,\" he added. Asrani further said, \"Accusations and blames are all filmy things. Mere accusations mean nothing.\" \n",
      "Summaries: {'#MeToo is a waste of publicity: Asrani on #MeToo', 'I support women but this is mainly for publicity: Asrani', 'I support women: Asrani'}\n",
      "\n",
      "Two New Mexico State University student artists, Yalet Yanar and Citlali Delgado, have been selected to showcase their work for Art Stop 2025. Their pieces, each with unique and powerful themes, will be displayed in public spaces across Las Cruces, bringing their artistic vision to the community. The event aims to showcase a range of creative expressions, offering the community an opportunity to engage with thought-provoking art in everyday spaces.\n",
      "Summaries: {\"US' New Mexico's Citlali Delgado showcased for Art Stop\", 'Students chosen to showcase their work at Art Stop 2025', 'Students chosen to showcase their works for Art Stop'}\n",
      "\n"
     ]
    }
   ],
   "source": [
    "for review in sample_reviews:\n",
    "    summaries = set()\n",
    "    print(review)\n",
    "    while len(summaries) < 3:\n",
    "        summary = model_infer(model, tokenizer, review + \" TL;DR \").split(\" TL;DR \")[1].strip()\n",
    "        if summary not in summaries:\n",
    "            summaries.add(summary)\n",
    "    print(\"Summaries: \"+ str(summaries) +\"\\n\")"
   ]
  },
  {
   "cell_type": "markdown",
   "id": "68b39a6b-2e81-4dcc-9310-1f223f643dcd",
   "metadata": {},
   "source": [
    "### I added an extra news article from the NMSU website, using the article title and a couple of paragraph from the news article itself. For some reasonm when I use the model to generate a corresponding Headline, I get Summaries: {'', 'TL;', '<|endoftext|>'}. This article is added to the original dataset since the very beginning as you can see at cell # 5. After that I use the new dataset to train the model."
   ]
  },
  {
   "cell_type": "code",
   "execution_count": 28,
   "id": "f3c2f057-0128-48f5-bc5e-4f5ad5c1af40",
   "metadata": {},
   "outputs": [
    {
     "name": "stdout",
     "output_type": "stream",
     "text": [
      "Two New Mexico State University student artists, Yalet Yanar and Citlali Delgado, have been selected to showcase their work for Art Stop 2025. Their pieces, each with unique and powerful themes, will be displayed in public spaces across Las Cruces, bringing their artistic vision to the community. The event aims to showcase a range of creative expressions, offering the community an opportunity to engage with thought-provoking art in everyday spaces.\n",
      "Summaries: {'2 students chosen to showcase work for Art Stop', '<|endoftext|>', 'Art Stop 2025 finalists selected for New Mexico'}\n",
      "\n"
     ]
    }
   ],
   "source": [
    "for review in sample_nmsu_review:\n",
    "    summaries = set()\n",
    "    print(review)\n",
    "    while len(summaries) < 3:\n",
    "        summary = model_infer(model, tokenizer, review + \" TL;DR \").split(\" TL;DR \")[1].strip()\n",
    "        if summary not in summaries:\n",
    "            summaries.add(summary)\n",
    "    print(\"Summaries: \"+ str(summaries) +\"\\n\")"
   ]
  },
  {
   "cell_type": "markdown",
   "id": "7828840d-ba61-4bd1-8703-e2d88b376665",
   "metadata": {},
   "source": [
    "# The end!"
   ]
  }
 ],
 "metadata": {
  "kernelspec": {
   "display_name": "Python 3 (ipykernel)",
   "language": "python",
   "name": "python3"
  },
  "language_info": {
   "codemirror_mode": {
    "name": "ipython",
    "version": 3
   },
   "file_extension": ".py",
   "mimetype": "text/x-python",
   "name": "python",
   "nbconvert_exporter": "python",
   "pygments_lexer": "ipython3",
   "version": "3.9.21"
  }
 },
 "nbformat": 4,
 "nbformat_minor": 5
}
